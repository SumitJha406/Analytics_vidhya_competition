{
  "nbformat": 4,
  "nbformat_minor": 0,
  "metadata": {
    "colab": {
      "name": "final_code.ipynb",
      "provenance": [],
      "collapsed_sections": []
    },
    "kernelspec": {
      "name": "python3",
      "display_name": "Python 3"
    },
    "language_info": {
      "name": "python"
    }
  },
  "cells": [
    {
      "cell_type": "code",
      "source": [
        "! pip install catboost"
      ],
      "metadata": {
        "id": "oX1VvNv-o7Va"
      },
      "execution_count": null,
      "outputs": []
    },
    {
      "cell_type": "markdown",
      "source": [
        "### Importing all the libraries and model"
      ],
      "metadata": {
        "id": "z_Ju60vyq33k"
      }
    },
    {
      "cell_type": "code",
      "execution_count": null,
      "metadata": {
        "id": "llhNlCySeeIL"
      },
      "outputs": [],
      "source": [
        "import numpy as np\n",
        "import matplotlib.pyplot as plt\n",
        "import seaborn as sns\n",
        "import pandas as pd\n",
        "from sklearn import metrics\n",
        "from sklearn import preprocessing\n",
        "from sklearn import tree\n",
        "from sklearn import model_selection\n",
        "from sklearn.ensemble import RandomForestRegressor\n",
        "import xgboost\n",
        "import lightgbm as lgb\n",
        "from xgboost.sklearn import XGBRegressor\n",
        "import catboost as cat"
      ]
    },
    {
      "cell_type": "markdown",
      "source": [
        "#### Getting Training Data  and Testing Data"
      ],
      "metadata": {
        "id": "aQo8p_EBrMYE"
      }
    },
    {
      "cell_type": "code",
      "source": [
        "TrainData = pd.read_csv(\"/content/drive/MyDrive/Analytics_jobthakon_data/train_0OECtn8.csv\") # Reading Training data file\n",
        "TestData = pd.read_csv(\"/content/drive/MyDrive/Analytics_jobthakon_data/test_1zqHu22.csv\")# Reading Testing data file\n",
        "SampleData = pd.read_csv(\"/content/drive/MyDrive/Analytics_jobthakon_data/sample_submission_JPlpRcN.csv\") # Reading sample data file"
      ],
      "metadata": {
        "id": "2gclfYH7eyMM"
      },
      "execution_count": null,
      "outputs": []
    },
    {
      "cell_type": "code",
      "source": [
        "Target = TrainData['engagement_score']  #Assign target column to  Target variable"
      ],
      "metadata": {
        "id": "M97Y5l8Meygb"
      },
      "execution_count": null,
      "outputs": []
    },
    {
      "cell_type": "markdown",
      "source": [
        "#### Separating numerical and categorical columns"
      ],
      "metadata": {
        "id": "LcDYvRO7rax3"
      }
    },
    {
      "cell_type": "code",
      "source": [
        "numerical_columns = [\n",
        "                     \"row_id\" , \"user_id\", \"category_id\",\n",
        "                     \"video_id\", \"age\", \"followers\", \"views\"]\n",
        "\n",
        "categorical_columns = [\n",
        "                       \"gender\", \"profession\"]\n",
        "\n",
        "\n",
        "all_columns = numerical_columns + categorical_columns + [\"engagement_score\"]"
      ],
      "metadata": {
        "id": "Zy3H8mkjeyra"
      },
      "execution_count": null,
      "outputs": []
    },
    {
      "cell_type": "markdown",
      "source": [
        "#### Encoding categorical columns of both train and test data"
      ],
      "metadata": {
        "id": "lf4htbmHr-qK"
      }
    },
    {
      "cell_type": "code",
      "source": [
        "TestData.loc[:,\"engagement_score\"] = -1\n",
        "\n",
        "#concantenating both train and test data\n",
        "Data = pd.concat([TrainData, TestData]).reset_index(drop = True)\n",
        "\n",
        "for feat in categorical_columns:\n",
        "  lbl_enc = preprocessing.LabelEncoder()\n",
        "  temp_col = Data[feat].fillna(\"NONE\").astype(str).values\n",
        "\n",
        "  # we can use fit_transform here as we do not\n",
        "  # have any extra test data that we need to \n",
        "  # transfrom on separately\n",
        "  Data.loc[:, feat] = lbl_enc.fit_transform(temp_col)\n",
        "\n",
        "\n",
        "train = Data[Data.engagement_score!= -1].reset_index(drop = True)\n",
        "test = Data[Data.engagement_score == -1].reset_index(drop = True)\n"
      ],
      "metadata": {
        "id": "QbRM-Dd7ey17"
      },
      "execution_count": null,
      "outputs": []
    },
    {
      "cell_type": "code",
      "source": [
        "test.drop(labels ='engagement_score', axis = 1, inplace = True)"
      ],
      "metadata": {
        "id": "9Me7bXSDglXm"
      },
      "execution_count": null,
      "outputs": []
    },
    {
      "cell_type": "code",
      "source": [
        "train.to_csv(\"/content/drive/MyDrive/Analytics_jobthakon_data/encodedTrainData.csv\",index = False) # saving encoded train data as csv file\n",
        "test.to_csv(\"/content/drive/MyDrive/Analytics_jobthakon_data/encodedTestData.csv\",index = False) # saving encoded test data as csv file"
      ],
      "metadata": {
        "id": "E-0Hvt-Fezev"
      },
      "execution_count": null,
      "outputs": []
    },
    {
      "cell_type": "markdown",
      "source": [
        "#### Creating folds of encoded Training Data"
      ],
      "metadata": {
        "id": "xwlvian7scCE"
      }
    },
    {
      "cell_type": "code",
      "source": [
        "train1['kfold'] = -1\n",
        "\n",
        "train1 = train1.sample(frac = 1).reset_index(drop = True)\n",
        "\n",
        "kf = model_selection.KFold(n_splits = 5)\n",
        "\n",
        "for fold, (trn_, val_) in enumerate(kf.split(X = train1)):\n",
        "  train1.loc[val_, 'kfold'] = fold\n",
        "\n",
        "train1.to_csv(\"/content/drive/MyDrive/Analytics_jobthakon_data/encodedfoldTrainData\",index = False)\n"
      ],
      "metadata": {
        "id": "W80R5A1qezn0"
      },
      "execution_count": null,
      "outputs": []
    },
    {
      "cell_type": "markdown",
      "source": [
        "#### Hyperparameter tuning of different models using 5-folded training data"
      ],
      "metadata": {
        "id": "haskBOmesxo7"
      }
    },
    {
      "cell_type": "code",
      "source": [
        "trainData = pd.read_csv(\"/content/drive/MyDrive/Analytics_jobthakon_data/encodedfoldTrainData\") # loading encoded 5- fold data\n",
        "traindata.drop(labels = 'row_id', axis = 1, inplace = True) # removing row_id columns from training data"
      ],
      "metadata": {
        "id": "Vcuwma3thT-W"
      },
      "execution_count": null,
      "outputs": []
    },
    {
      "cell_type": "code",
      "source": [
        "# function for hyperparameter tuning of different models.\n",
        "\n",
        "def run(fold, model,params):\n",
        "  df_train = traindata[traindata.kfold!= fold].reset_index(drop = True)\n",
        "\n",
        "  df_valid = traindata[traindata.kfold ==fold].reset_index(drop = True)\n",
        "  \n",
        "\n",
        "\n",
        "  x_train = df_train.drop(labels=[\"engagement_score\",\"kfold\"],axis = 1).values\n",
        "  y_train = df_train.engagement_score.values\n",
        "\n",
        "  \n",
        "  x_valid = df_valid.drop(labels =[\"engagement_score\",\"kfold\"], axis = 1).values\n",
        "  y_valid = df_valid.engagement_score.values\n",
        "\n",
        "\n",
        "  cf = model_selection.RandomizedSearchCV(\n",
        "      estimator = model,\n",
        "      param_distributions=  params,\n",
        "      n_iter = 20,\n",
        "      scoring = 'r2',\n",
        "      verbose = 3, \n",
        "      n_jobs = 3,\n",
        "      cv =5\n",
        "  )\n",
        "\n",
        "  \n",
        "\n",
        "  cf.fit(x_train, y_train)\n",
        "  print(f\"Best parameters set :{cf.best_score_}\")\n",
        "  print(\"Best parameters set:\")\n",
        "  best_parameters = cf.best_estimator_.get_params()\n",
        "  for param_name in sorted(params.keys()):\n",
        "    print(f\"\\t{param_name}:{best_parameters[param_name]}\")\n",
        "\n",
        "\n",
        "  preds = cf.predict(x_valid)\n",
        "  accuracy = metrics.r2_score(y_valid, preds)\n",
        "  print(f\"Fold = {fold}, Accuracy = {accuracy}\")"
      ],
      "metadata": {
        "id": "9quuySlNh44F"
      },
      "execution_count": null,
      "outputs": []
    },
    {
      "cell_type": "markdown",
      "source": [
        "##### 1. Hyperparameter tuning of Random forest Regressor model"
      ],
      "metadata": {
        "id": "mgN8CiMWt-hv"
      }
    },
    {
      "cell_type": "code",
      "source": [
        "model = RandomForestRegressor() # Loading of model RandomForestRegressor\n",
        "\n",
        "\n",
        "\n",
        "#parameter grid of RandomforestRegressor model\n",
        "param1 = {'n_estimators':  [700],\n",
        "                'max_depth':  [10,20,30,40],\n",
        "                'max_features': ['auto', 'sqrt'],\n",
        "                'min_samples_split':[1,2, 5, 10, 15],\n",
        "                'min_samples_leaf': [1, 2, 4, 5]\n",
        "}\n",
        "\n",
        "\n",
        "\n",
        "run(1, model1, param1)    # calling of function for hyperparameter tuning"
      ],
      "metadata": {
        "id": "Sd2ezzy3iIct"
      },
      "execution_count": null,
      "outputs": []
    },
    {
      "cell_type": "markdown",
      "source": [
        "##### 2. Hyperparameter tuning of LGBMRegressor model"
      ],
      "metadata": {
        "id": "UMxpDOdYueV7"
      }
    },
    {
      "cell_type": "code",
      "source": [
        "model2 = lgb.LGBMRegressor() # Loading of model \n",
        "\n",
        "\n",
        "param2 = {'num_leaves':[20,40,60,80,100], 'min_child_samples':[5,10,15],'max_depth':[-1,5,10,20],     # Parameter grid of LGBMRegressor model\n",
        "             'learning_rate':[0.05,0.1,0.2],'reg_alpha':[0,0.01,0.03],\n",
        "          'n_iter': [2000,2500,3000,3500,4000,4500]}\n",
        "\n",
        "\n",
        "run(1, model2 , param2) # Calling of function for hyperparameter tuning."
      ],
      "metadata": {
        "id": "N3X7JytAku_I"
      },
      "execution_count": null,
      "outputs": []
    },
    {
      "cell_type": "markdown",
      "source": [
        "##### 3. Hyperparameter tuning for XGBRegressor model"
      ],
      "metadata": {
        "id": "pUUhCZNmvVmQ"
      }
    },
    {
      "cell_type": "code",
      "source": [
        "model3 = XGBRegressor()\n",
        "\n",
        "\n",
        "param3 = {\n",
        "    \"learning_rate\": [0.1, 0.01,0.05],\n",
        "    \"colsample_bytree\": [0.6, 0.8, 0.9,1.0],\n",
        "    \"subsample\": [0.6, 0.8,0.9, 1.0],\n",
        "    \"max_depth\": [2, 3, 4],\n",
        "    \"n_estimators\": [400, 500, 600, 700,800],\n",
        "    \"reg_lambda\": [1, 1.5, 2],\n",
        "    \"gamma\": [0, 0.1, 0.3],\n",
        "    \"min_child_weight\": [1,3,5,7]\n",
        "}\n",
        "\n",
        "\n",
        " run(1, model3, param3)"
      ],
      "metadata": {
        "id": "QgoMKeKvoEcb"
      },
      "execution_count": null,
      "outputs": []
    },
    {
      "cell_type": "markdown",
      "source": [
        "##### 4. Hyperparameter tuning for CatboostRegressor model"
      ],
      "metadata": {
        "id": "E8Tci8W-viCq"
      }
    },
    {
      "cell_type": "code",
      "source": [
        "model4 = cat.CatBoostRegressor()\n",
        "\n",
        "\n",
        "param4  = {'depth':[3,1,2,6,4,5,7,8,9,10],\n",
        "          'iterations':[1000,1500,2000,2500,3000],\n",
        "          'learning_rate':[0.03,0.001,0.01,0.1,0.2,0.3], \n",
        "          'l2_leaf_reg':[3,1,5,10,100]}\n",
        "\n",
        "\n",
        "run(1, model4, param4)"
      ],
      "metadata": {
        "id": "RlKzqh_Mos15"
      },
      "execution_count": null,
      "outputs": []
    },
    {
      "cell_type": "markdown",
      "source": [
        "#### Training of models and Prediction from test data"
      ],
      "metadata": {
        "id": "8jO2G3ndvz8s"
      }
    },
    {
      "cell_type": "code",
      "source": [
        "df_train = TrainData.drop(labels=['row_id','engagement_score'],axis =1).values\n",
        "df_test = TestData.drop(labels = 'row_id',axis =1).values"
      ],
      "metadata": {
        "id": "EsO3RoTJv6Q7"
      },
      "execution_count": null,
      "outputs": []
    },
    {
      "cell_type": "markdown",
      "source": [
        "##### 1. RandomForestRegressor model"
      ],
      "metadata": {
        "id": "lbw5rea70pjN"
      }
    },
    {
      "cell_type": "code",
      "source": [
        "model = RandomForestRegressor(n_estimators=800,max_depth=40,\n",
        "\tmin_samples_leaf=1,\n",
        "\tmin_samples_split=10)\n",
        "model.fit(df_train, target)\n",
        "y = model.predict(df_test)\n",
        "\n",
        "submission = pd.read_csv(\"/content/drive/MyDrive/Analytics_jobthakon_data/sample_submission_JPlpRcN.csv\")\n",
        "submission.engagement_score =y\n",
        "\n",
        "submission.to_csv(\"/content/drive/MyDrive/Analytics_jobthakon_data/Submission8.csv\",index = False)"
      ],
      "metadata": {
        "id": "FPMdD4tKwAVy"
      },
      "execution_count": null,
      "outputs": []
    },
    {
      "cell_type": "markdown",
      "source": [
        "##### 2. XGboost regressor model"
      ],
      "metadata": {
        "id": "tNbPykml05zG"
      }
    },
    {
      "cell_type": "code",
      "source": [
        "paramXGb = {'colsample_bytree':1.0,\n",
        "\t'gamma':0,\n",
        "\t'learning_rate':0.1,\n",
        "\t'max_depth':4,\n",
        "\t'min_child_weight':7,\n",
        "\t'n_estimators':3850,\n",
        "\t'reg_lambda':1.5,\n",
        "\t'subsample':0.8\n",
        "    \n",
        "}"
      ],
      "metadata": {
        "id": "0tvEW9kqwhQM"
      },
      "execution_count": null,
      "outputs": []
    },
    {
      "cell_type": "code",
      "source": [
        "model = XGBRegressor(**paramXGb)\n",
        "model.fit(df_train,target)\n",
        "y = model.predict(df_test)\n",
        "submission = pd.read_csv(\"/content/drive/MyDrive/Analytics_jobthakon_data/sample_submission_JPlpRcN.csv\")\n",
        "submission.engagement_score =y\n",
        "\n",
        "submission.to_csv(\"/content/drive/MyDrive/Analytics_jobthakon_data/Submission6.csv\",index = False)"
      ],
      "metadata": {
        "id": "FkbZ2cOpwojV"
      },
      "execution_count": null,
      "outputs": []
    },
    {
      "cell_type": "markdown",
      "source": [
        "##### 3. lightgbm regressor model"
      ],
      "metadata": {
        "id": "l9uKJ41I1Jkv"
      }
    },
    {
      "cell_type": "code",
      "source": [
        "paralgb= {\n",
        "    \"learning_rate\":0.05,\n",
        "\t\"max_depth\":-1,\n",
        "\t\"min_child_samples\":10,\n",
        "\t\"n_iter\":2500,\n",
        "\t\"num_leaves\":60,\n",
        "\t\"reg_alpha\":0\n",
        "}"
      ],
      "metadata": {
        "id": "eK8fKjYFxx4_"
      },
      "execution_count": null,
      "outputs": []
    },
    {
      "cell_type": "code",
      "source": [
        "model = lgb.LGBMRegressor(**paralgb)\n",
        "model.fit(df_train,target)\n",
        "y = model.predict(df_test)\n",
        "submission = pd.read_csv(\"/content/drive/MyDrive/Analytics_jobthakon_data/sample_submission_JPlpRcN.csv\")\n",
        "submission.engagement_score =y\n",
        "\n",
        "submission.to_csv(\"/content/drive/MyDrive/Analytics_jobthakon_data/Submission9.csv\",index = False)"
      ],
      "metadata": {
        "id": "5pKtte0qx1wi"
      },
      "execution_count": null,
      "outputs": []
    },
    {
      "cell_type": "markdown",
      "source": [
        "##### 4. Catboost regressor model"
      ],
      "metadata": {
        "id": "PL1KdaYz1TAO"
      }
    },
    {
      "cell_type": "code",
      "source": [
        "paracat = {\n",
        "  'depth':8,\n",
        "\t'iterations':3500,\n",
        "\t'l2_leaf_reg':5,\n",
        "\t'learning_rate':0.1\n",
        "}"
      ],
      "metadata": {
        "id": "D0mODJKrx_Kf"
      },
      "execution_count": null,
      "outputs": []
    },
    {
      "cell_type": "code",
      "source": [
        "model = cat.CatBoostRegressor(**paracat)\n",
        "model.fit(df_train,target)\n",
        "y = model.predict(df_test)\n",
        "submission = pd.read_csv(\"/content/drive/MyDrive/Analytics_jobthakon_data/sample_submission_JPlpRcN.csv\")\n",
        "submission.engagement_score =y\n",
        "\n",
        "submission.to_csv(\"/content/drive/MyDrive/Analytics_jobthakon_data/Submission10.csv\",index = False)"
      ],
      "metadata": {
        "id": "wRs7y9sOyDlg"
      },
      "execution_count": null,
      "outputs": []
    },
    {
      "cell_type": "markdown",
      "source": [
        "### Average voting Ensemble of models prediction"
      ],
      "metadata": {
        "id": "POaasoNV1dIP"
      }
    },
    {
      "cell_type": "code",
      "source": [
        "submission1 = pd.read_csv(\"/content/drive/MyDrive/Analytics_jobthakon_data/Submission10.csv\")\n",
        "submission2 = pd.read_csv(\"/content/drive/MyDrive/Analytics_jobthakon_data/Submission9.csv\")\n",
        "submission3 = pd.read_csv(\"/content/drive/MyDrive/Analytics_jobthakon_data/Submission8.csv\" )\n",
        "submission4 = pd.read_csv(\"/content/drive/MyDrive/Analytics_jobthakon_data/Submission7.csv\")\n",
        "submission5 = pd.read_csv(\"/content/drive/MyDrive/Analytics_jobthakon_data/Submission6.csv\")\n",
        "submission6 = pd.read_csv(\"/content/drive/MyDrive/Analytics_jobthakon_data/Submission2.csv\")"
      ],
      "metadata": {
        "id": "9Gc7yNLX1pKN"
      },
      "execution_count": null,
      "outputs": []
    },
    {
      "cell_type": "code",
      "source": [
        "submission1.drop(labels = 'row_id',inplace = True, axis =1)\n",
        "submission2.drop(labels = 'row_id',inplace = True, axis =1)\n",
        "submission3.drop(labels = 'row_id',inplace = True, axis =1)\n",
        "submission4.drop(labels = 'row_id',inplace = True, axis =1)\n",
        "submission5.drop(labels = 'row_id',inplace = True, axis =1)\n",
        "submission6.drop(labels = 'row_id',inplace = True, axis =1)"
      ],
      "metadata": {
        "id": "r_rHTnx62J-b"
      },
      "execution_count": null,
      "outputs": []
    },
    {
      "cell_type": "code",
      "source": [
        "submission =submission1.values + submission2.values + submission3.values + submission4.values + submission5.values + submission6.values\n",
        "submission = submission/6"
      ],
      "metadata": {
        "id": "rLEUzAzr2kco"
      },
      "execution_count": null,
      "outputs": []
    },
    {
      "cell_type": "code",
      "source": [
        "sample_submission = pd.read_csv(\"/content/drive/MyDrive/Analytics_jobthakon_data/sample_submission_JPlpRcN.csv\")\n",
        "sample_submission['engagement_score'] = submission\n",
        "sample_submission.to_csv(\"/content/drive/MyDrive/Analytics_jobthakon_data/Submission12.csv\", index =False)"
      ],
      "metadata": {
        "id": "pTwncHwF2rQN"
      },
      "execution_count": null,
      "outputs": []
    }
  ]
}